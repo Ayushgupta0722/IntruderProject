{
 "cells": [
  {
   "cell_type": "code",
   "execution_count": 1,
   "metadata": {},
   "outputs": [
    {
     "ename": "ModuleNotFoundError",
     "evalue": "No module named 'face_recognition'",
     "output_type": "error",
     "traceback": [
      "\u001b[1;31m---------------------------------------------------------------------------\u001b[0m",
      "\u001b[1;31mModuleNotFoundError\u001b[0m                       Traceback (most recent call last)",
      "Cell \u001b[1;32mIn[1], line 2\u001b[0m\n\u001b[0;32m      1\u001b[0m \u001b[39mimport\u001b[39;00m \u001b[39mglob\u001b[39;00m\n\u001b[1;32m----> 2\u001b[0m \u001b[39mimport\u001b[39;00m \u001b[39mface_recognition\u001b[39;00m\n\u001b[0;32m      3\u001b[0m \u001b[39mimport\u001b[39;00m \u001b[39mcv2\u001b[39;00m\n\u001b[0;32m      4\u001b[0m \u001b[39mimport\u001b[39;00m \u001b[39mnumpy\u001b[39;00m \u001b[39mas\u001b[39;00m \u001b[39mnp\u001b[39;00m\n",
      "\u001b[1;31mModuleNotFoundError\u001b[0m: No module named 'face_recognition'"
     ]
    }
   ],
   "source": [
    "import glob\n",
    "import face_recognition\n",
    "import cv2\n",
    "import numpy as np"
   ]
  },
  {
   "cell_type": "code",
   "execution_count": null,
   "metadata": {},
   "outputs": [],
   "source": []
  },
  {
   "cell_type": "code",
   "execution_count": null,
   "metadata": {},
   "outputs": [],
   "source": [
    "import matplotlib.pyplot as plt"
   ]
  },
  {
   "cell_type": "markdown",
   "metadata": {},
   "source": [
    "### Data Set Understanding "
   ]
  },
  {
   "cell_type": "code",
   "execution_count": null,
   "metadata": {},
   "outputs": [],
   "source": [
    "paths = glob.glob('C:\\\\Users\\\\ayush\\\\Downloads\\\\Intruder-Detection-and-Automatic-Email-Alerting-system-master\\\\Intruder-Detection-and-Automatic-Email-Alerting-system-master\\\\data\\\\*')\n",
    "# print(paths)\n",
    "names = []\n",
    "images = []\n",
    "image_encodings = []\n",
    "image_names = []\n",
    "count_img = 0\n",
    "for i in paths:\n",
    "    images.append(face_recognition.load_image_file(i))\n",
    "    image_encodings.append(face_recognition.face_encodings(images[count_img])[0])\n",
    "    image_names.append(i.split('\\\\')[-1].split('.')[0])\n",
    "    count_img+=1\n",
    "    # print(image_names)\n",
    "# print(image_names)\n",
    "# print(images)\n",
    "# print(image_encodings)\n"
   ]
  },
  {
   "cell_type": "markdown",
   "metadata": {},
   "source": [
    "## Data encoding, Training and detecting"
   ]
  },
  {
   "cell_type": "code",
   "execution_count": null,
   "metadata": {},
   "outputs": [
    {
     "name": "stdout",
     "output_type": "stream",
     "text": [
      "Intruder detected\n"
     ]
    }
   ],
   "source": [
    "try:\n",
    "    count = 0\n",
    "    cap = cv2.VideoCapture(0)\n",
    "    while True:\n",
    "        ret,frame = cap.read()\n",
    "        if len(frame)==0:\n",
    "            break\n",
    "        gray = frame[:, :, ::-1]\n",
    "        face_locations = face_recognition.face_locations(gray)\n",
    "        # print(face_locations)\n",
    "        face_encodings = face_recognition.face_encodings(gray, face_locations)\n",
    "        # print(face_encoding)\n",
    "        name = 'Unknown'\n",
    "        for (top, right, bottom, left), face_encoding in zip(face_locations, face_encodings):\n",
    "            matches = face_recognition.compare_faces(image_encodings, face_encoding)\n",
    "            \n",
    "            face_distances = face_recognition.face_distance(image_encodings, face_encoding)\n",
    "            # print(face_distances)\n",
    "            best_match_index = np.argmin(face_distances)\n",
    "            if matches[best_match_index]:\n",
    "                name = image_names[best_match_index]\n",
    "            # if(name=='Unknown'):\n",
    "                # cv2.imwrite('C:\\\\Users\\\\ayush\\\\Downloads\\\\Intruder-Detection\\\\Intruder-Detection-and-Automatic-Email-Alerting-system-master\\\\intruders\\\\intru-{}.jpg'.format(count),frame)\n",
    "                # count+=1\n",
    "            if name == 'Unknown':\n",
    "                intruder =  cv2.cvtColor(frame,cv2.COLOR_BGR2RGB)\n",
    "                plt.imsave('C:\\\\Users\\\\ayush\\\\Downloads\\\\Intruder-Detection-and-Automatic-Email-Alerting-system-master\\\\Intruder-Detection-and-Automatic-Email-Alerting-system-master\\\\intruders\\\\intruder.png',intruder)\n",
    "                count+=1\n",
    "                cap.release()\n",
    "                break\n",
    "            cv2.rectangle(frame, (left, top), (right, bottom), (0, 0, 255), 3)\n",
    "            font = cv2.FONT_HERSHEY_DUPLEX\n",
    "            cv2.putText(frame, name, (left + 6, bottom - 6), font, 1.0, (255, 255, 255), 1)\n",
    "        cv2.imshow(\"output\",frame)\n",
    "        \n",
    "        if(cv2.waitKey(1)==ord('q')):\n",
    "            break\n",
    "    cap.release()\n",
    "    cv2.destroyAllWindows()\n",
    "except:\n",
    "    print('Intruder detected')\n",
    "    cap.release()\n",
    "    cv2.destroyAllWindows()"
   ]
  },
  {
   "cell_type": "markdown",
   "metadata": {},
   "source": [
    "## Email Image selection"
   ]
  },
  {
   "cell_type": "code",
   "execution_count": null,
   "metadata": {},
   "outputs": [],
   "source": [
    "import email, smtplib, ssl\n",
    "\n",
    "from email import encoders\n",
    "from email.mime.base import MIMEBase\n",
    "from email.mime.multipart import MIMEMultipart\n",
    "from email.mime.text import MIMEText\n",
    "\n",
    "subject = \"Intruder on your system\"\n",
    "body = \"Below attached is snapshot of intruder on your system\"\n",
    "sender_email = \"minorproject0522@gmail.com\"\n",
    "receiver_email = \"ayushgupta0722@gmail.com\"\n",
    "password = 'Minor123@'\n",
    "\n",
    "# Create a multipart message and set headers\n",
    "message = MIMEMultipart()\n",
    "message[\"From\"] = sender_email\n",
    "message[\"To\"] = receiver_email\n",
    "message[\"Subject\"] = subject\n",
    "message[\"Bcc\"] = receiver_email  # Recommended for mass emails\n",
    "\n",
    "# Add body to email\n",
    "message.attach(MIMEText(body, \"plain\"))\n",
    "\n",
    "filename = \"C:\\\\Users\\\\ayush\\\\Downloads\\\\Intruder-Detection-and-Automatic-Email-Alerting-system-master\\\\Intruder-Detection-and-Automatic-Email-Alerting-system-master\\\\intruders\\\\intruder.png\"  # In same directory as script\n",
    "\n",
    "# Open PDF file in binary mode\n",
    "with open(filename, \"rb\") as attachment:\n",
    "    # Add file as application/octet-stream\n",
    "    # Email client can usually download this automatically as attachment\n",
    "    part = MIMEBase(\"application\", \"octet-stream\")\n",
    "    part.set_payload(attachment.read())\n",
    "\n",
    "# Encode file in ASCII characters to send by email    \n",
    "encoders.encode_base64(part)\n",
    "\n",
    "# Add header as key/value pair to attachment part\n",
    "part.add_header(\n",
    "    \"Content-Disposition\",\n",
    "    f\"attachment; filename= {filename}\",\n",
    ")\n",
    "\n",
    "# Add attachment to message and convert message to string\n",
    "message.attach(part)\n",
    "text = message.as_string()\n",
    "\n",
    "# Log in to server using secure context and send email\n",
    "context = ssl.create_default_context()\n",
    "with smtplib.SMTP_SSL(\"smtp.gmail.com\", 465, context=context) as server:\n",
    "    server.login(sender_email, password)\n",
    "    server.sendmail(sender_email, receiver_email, text)"
   ]
  }
 ],
 "metadata": {
  "interpreter": {
   "hash": "a485d7efb07aa932cbda673d9cc415b73ce0babaea7be264793e952cd2a42b08"
  },
  "kernelspec": {
   "display_name": "Python 3.8.13 ('minor')",
   "language": "python",
   "name": "python3"
  },
  "language_info": {
   "codemirror_mode": {
    "name": "ipython",
    "version": 3
   },
   "file_extension": ".py",
   "mimetype": "text/x-python",
   "name": "python",
   "nbconvert_exporter": "python",
   "pygments_lexer": "ipython3",
   "version": "3.11.4"
  }
 },
 "nbformat": 4,
 "nbformat_minor": 2
}
